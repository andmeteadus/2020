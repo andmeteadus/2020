{
 "cells": [
  {
   "cell_type": "raw",
   "metadata": {},
   "source": [
    "---\n",
    "title: \"Kodutöö 1\"\n",
    "output: \n",
    "  html_document:\n",
    "    theme: null\n",
    "---"
   ]
  },
  {
   "cell_type": "markdown",
   "metadata": {},
   "source": [
    "\n",
    "# I osa - veebiloengud, videod, artiklid (5 punkti)\n",
    "1. (**2 punkti**) Vaata Johns Hopkinsi reprodutseeritava analüüsi videosid:\n",
    "\n",
    "* [Reproducible Research: Concepts and Ideas (Part 1/3)](https://www.youtube.com/watch?v=4rBX6r5emgQ&index=1&list=PLjTlxb-wKvXOU4WW4p3qc4VKWTI4gLNUf)\n",
    "* [Reproducible Research: Concepts and Ideas (Part 2/3)](https://www.youtube.com/watch?v=GXSRP--d3Q4&index=2&list=PLjTlxb-wKvXOU4WW4p3qc4VKWTI4gLNUf)\n",
    "* [Reproducible Research: Concepts and Ideas (Part 3/3)](https://www.youtube.com/watch?v=bwQWhZQmDuc&list=PLjTlxb-wKvXOU4WW4p3qc4VKWTI4gLNUf&index=3)\n",
    "\n",
    "Vasta järgmistele küsimustele:\n",
    "\n",
    "* Selgitage, mida tähendab, et *reprodutseeritav analüüs* on kompromiss *uuringu replikeerimise* ja *mitte millegi* vahel.\n",
    "* Mis on sinu arvates reprodutseeritava analüüsi suurim väljakutse? Põhjenda. Kuidas sellega toime tulla?\n",
    "\n",
    "2. (**1 punkt**) Vaata videot [Data Management Course: Sharing your data](https://www.youtube.com/watch?v=eUC7MweyyFA)\n",
    "\n",
    "Vasta järgmisele küsimusele:\n",
    "\n",
    "* Nimeta vähemalt 3 olulist aspekti seoses andmete talletamise ning andmehaldusega, millele videos viidati.\n",
    "\n",
    "3. (**2 punkti**) Loe artiklit [Researchers Finally Replicated Reinhart-Rogoff, and There Are Serious Problems](http://rooseveltinstitute.org/researchers-finally-replicated-reinhart-rogoff-and-there-are-serious-problems/)."
   ]
  },
  {
   "cell_type": "markdown",
   "metadata": {},
   "source": [
    "Artikkel kirjeldab majandusteadlaste Reinhart'i ja Rogoff'i 2010. aasta publikatsiooni *Growth in a Time of Debt* ning mis vigu riigivõla ja majanduskasvu uurimisel tehti. Järgmises praktikumis uurime sama andmestikku, mida käsitleti ka Reinhart'i ja Rogoff'i artiklis.\n",
    "\n",
    "Vasta järgmistele küsimustele:\n",
    "\n",
    "* Nimeta, mis oli Reinhart'i ja Rogoff'i artikli üks olulisemaid tulemusi.\n",
    "* Millel põhines teadlaste Herndon'i, Ash'i ja Pollin'i kriitika majandusteadlaste Reinhart'i ja Rogoff'i teadusartiklile *Growth in a Time of Debt.* (nimeta 3 probleemi).\n",
    "\n",
    "# II osa - andmete analüüs (20 punkti)\n",
    "Lõpeta praktikumis alustatud [automaatse aktsiaturu ülevaate genereerimise ülesanded](../praktikum1_aktsiad).\n",
    "\n",
    "Abimaterjalid:\n",
    "\n",
    "* [knitr](../praktikum1_knitr)\n",
    "* [dplyr](../praktikum1_dplyr)\n",
    "\n",
    "<div class=\"message\">\n",
    "Kui tunned ennast veel ebakindlalt *dplyr* paketi kasutamise osas, siis soovitame ühte järgnevatest:\n",
    "\n",
    "* Lugeda juhendit [Introduction to dplyr](https://cran.rstudio.com/web/packages/dplyr/vignettes/dplyr.html)\n",
    "* Vaadata videot https://www.youtube.com/watch?v=8SGif63VW6E&t=4m5s, kus Hadley Wickham, kes on *dplyr* paketi autor, õpetab *UseR 2014* konverentsil seda paketti\n",
    "    * 4:05 - 8:25 sissejuhatus, ülevaade andmestikest\n",
    "    * 8:25 - 27:45 funktsioonid `filter`, `select`, `arrange`, `mutate`\n",
    "    * 27:45 - 35:40 funktsioonid `summarise`, `group_by`\n",
    "</div>\n",
    "\n",
    "# Mida on vaja esitada?\n",
    "\n",
    "* I osa kohta tuleb esitada vastused [Moodle testi](https://moodle.ut.ee/mod/quiz/view.php?id=669005). \n",
    "* II osa kohta tuleb esitada nii andmeanalüüsi raport (html või pdf formaadis) kui ka selle lähtekood .Rmd failina Moodle keskkonnas."
   ]
  },
  {
   "cell_type": "markdown",
   "metadata": {},
   "source": [
    "Lahendused esitada [Moodle keskkonna](https://moodle.ut.ee/course/view.php?id=8013#section-1) kaudu.\n",
    "\n"
   ]
  }
 ],
 "metadata": {
  "jupytext": {
   "cell_metadata_filter": "-all",
   "main_language": "python",
   "notebook_metadata_filter": "-all"
  },
  "kernelspec": {
   "display_name": "Python 3",
   "language": "python",
   "name": "python3"
  },
  "language_info": {
   "codemirror_mode": {
    "name": "ipython",
    "version": 3
   },
   "file_extension": ".py",
   "mimetype": "text/x-python",
   "name": "python",
   "nbconvert_exporter": "python",
   "pygments_lexer": "ipython3",
   "version": "3.8.1"
  }
 },
 "nbformat": 4,
 "nbformat_minor": 4
}
