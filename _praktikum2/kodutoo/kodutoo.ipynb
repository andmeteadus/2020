{
 "cells": [
  {
   "cell_type": "raw",
   "metadata": {},
   "source": [
    "---\n",
    "title: \"Kodutöö\"\n",
    "output: \n",
    "  html_document:\n",
    "    theme: null\n",
    "---"
   ]
  },
  {
   "cell_type": "markdown",
   "metadata": {},
   "source": [
    "\n",
    "# I osa - veebiloengud, videod, artiklid (4 punkti)\n",
    "1. (**3 punkti**) Vaata Johns Hopkinsi andmeanalüüsi kursuse videosid:\n",
    "\n",
    "* [The ggplot2 Plotting System - Part 2 (1/3)](https://www.youtube.com/watch?v=zLwrYvH2Hg0&list=PLjTlxb-wKvXPhZ7tQwlROtFjorSj9tUyZ&index=13)\n",
    "* [The ggplot2 Plotting System - Part 2 (2/3)](https://www.youtube.com/watch?v=Z3WP_Up8b5I&list=PLjTlxb-wKvXPhZ7tQwlROtFjorSj9tUyZ&index=14)\n",
    "* [The ggplot2 Plotting System - Part 2 (3/3)](https://www.youtube.com/watch?v=gU8w0gjSx40&list=PLjTlxb-wKvXPhZ7tQwlROtFjorSj9tUyZ&index=15)\n",
    "\n",
    "Nimeta kolm kasulikku teadmist, mis videotest teada said. Juhul kui sa kõike juba teadsid, siis nimeta kolm sellist videos mainitud teadmist, mida sa kõige sagedamini kasutad.\n",
    "\n",
    "2. (**1 punkt**) Vaata https://www.youtube.com/watch?v=5Dnw46eC-0o\n",
    "\n",
    "Võta selle video idee ühe lausega kokku.\n",
    "\n",
    "# II osa (10 punkti)\n",
    "\n",
    "Lahenda praktikumis alustatud [*Growth in a Time of Debt*](../praktikum2_riigivolg) ülesanded.\n",
    "\n",
    "# III osa (11 punkti)\n",
    "\n",
    "Lahenda [pettuse tuvastamise ülesanded](../praktikum2_pettus). \n",
    "\n",
    "# Mida on vaja esitada?\n",
    "\n",
    "* I osa kohta tuleb esitada vastused tekstina Jupyter failis. \n",
    "* II ja III osa kohta tuleb esitada nii andmeanalüüsi raport (html või pdf formaadis) kui ka selle lähtekood .Rmd failina.\n",
    "\n",
    "Lisaks võiksid mainida, kui palju aega kulus osa I, II ja III peale. Mida arvad ülesannetest ja videotest (kasulikkus, huvitavus)?"
   ]
  },
  {
   "cell_type": "markdown",
   "metadata": {},
   "source": [
    "Lahendused esitada [Moodle keskkonna](https://moodle.ut.ee/course/view.php?id=8013#section-1) kaudu.\n"
   ]
  }
 ],
 "metadata": {
  "jupytext": {
   "cell_metadata_filter": "-all",
   "main_language": "python",
   "notebook_metadata_filter": "-all"
  }
 },
 "nbformat": 4,
 "nbformat_minor": 4
}
