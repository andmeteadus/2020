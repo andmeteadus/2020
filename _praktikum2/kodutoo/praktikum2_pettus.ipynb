{
 "cells": [
  {
   "cell_type": "raw",
   "metadata": {},
   "source": [
    "---\n",
    "title: \"Kuidas avastada pettust?\"\n",
    "output: \n",
    "  html_document:\n",
    "    theme: null\n",
    "editor_options: \n",
    "  chunk_output_type: console\n",
    "---"
   ]
  },
  {
   "cell_type": "code",
   "execution_count": null,
   "metadata": {
    "lines_to_next_cell": 2,
    "tags": [
     "remove_cell"
    ]
   },
   "outputs": [],
   "source": [
    "# See fail ei tee html faili päris sellisel kujul nagu vaja!\n",
    "\n",
    "# Viimased joonised on välja võetud, muidu annaks siinset koodi githubist otse ümber kopida. "
   ]
  },
  {
   "cell_type": "markdown",
   "metadata": {},
   "source": [
    "## Sissejuhatus\n",
    "\n",
    "Markus \"Märul\" Veekahuri isa on politseinik, ema on politseinik, mõlemad vanaemad on politseinikud ja õde on politseinik.\n",
    "Algul vaadati viltuselt Markuse soovile ülikooli statistikat õppima minna, kuid pärast kahte kuud vaikimist vahetati telefoni teel esimene \"tere\" ning lepiti uuesti ära.\n",
    "\n",
    "Kuid nagu elus ikka, ei kuku käbi kännust kaugele. Markus läks tööle Politsei- ja Piirivalveametisse ning tema igapäevatööks sai pettuste tuvastamine, kasutades statistilisi meetodeid.\n",
    "Tema ametirelvaks on Benfordi seadus.\n",
    "\n",
    "Benfordi seadus (sageli nimetatud kui esimese numbri seadus) kirjeldab arvu esimese numbri sagedust. Paljudes reaalsetes andmetes esineb number 1 esinumbrina umbes 30% juhtudest ning iga järgneva numbri sagedus kahaneb monotoonselt.\n",
    "\n",
    "![](benfordi_seadus.png \"Näide\")\n",
    "\n",
    "Empiiriliselt on näidatud, et Benfordi seadus kehtib näiteks aktsiahindade, jõgede pikkuse, riikide rahvaarvu andmetel. Järgneval joonisel on toodud kaks näidet Benfordi seaduse *kehtimisest*."
   ]
  },
  {
   "cell_type": "code",
   "execution_count": null,
   "metadata": {
    "lines_to_next_cell": 2,
    "tags": [
     "remove_cell"
    ]
   },
   "outputs": [],
   "source": [
    "library(ggplot2)\n",
    "library(gridExtra)\n",
    "library(dplyr)"
   ]
  },
  {
   "cell_type": "code",
   "execution_count": null,
   "metadata": {
    "tags": [
     "remove_input"
    ]
   },
   "outputs": [],
   "source": [
    "df1 = data.frame(x=factor(c(1:9)),\n",
    "                y=c(32.62, 16.66, 11.8, 9.26, 7.63, 6.55, 5.76, 5.14, 4.56))\n",
    "p1 = ggplot(df1, aes(x=x, weight=y)) + geom_bar() + ggtitle(\"Twitteri kasutajaid jälgijate arvu lõikes \\n\") +\n",
    "  scale_x_discrete(\"Esimene number\") + scale_y_continuous(\"\") + theme(text = element_text(size=11))\n",
    "\n",
    "df1 = data.frame(x=factor(c(1:9)),\n",
    "                y=c(31.57, 18.12, 11.88, 9.35, 7.84, 6.09, 5.78, 4.83, 4.53))\n",
    "p2 = ggplot(df1, aes(x=x, weight=y)) + geom_bar() + ggtitle(\"Riikide SKP suurus \\n\") + \n",
    "  scale_x_discrete(\"Esimene number\") + scale_y_continuous(\"\") + theme(text = element_text(size=11))\n",
    "\n",
    "grid.arrange(p1, p2, nrow=1)"
   ]
  },
  {
   "cell_type": "markdown",
   "metadata": {},
   "source": [
    "Markuse ametivennad on järeldanud Benfordi seadusest kõrvalekaldumisest, et Kreeka on võltsinud makromajanduslikke näitajaid või et Iraani valimised olid ebaausad. Benfordi seadusest saad täpsemalt lugeda [Vikipeediast.](http://en.wikipedia.org/wiki/Benford%27s_law)\n",
    "\n",
    "Selles kodutöös on sinu ülesandeks uurida: \n",
    "\n",
    "* kas Benfordi seaduse põhjal võib väita, et FIE-d on võltsinud maksunäitajaid, \n",
    "* kas Benfordi seaduse põhjal võib väita, et 2017. aasta kohaliku omavalitsuse volikogu valimistel toimus pettus.\n",
    "\n",
    "Kuna ülesannetes on vaja teha *ggplot2* abil jooniseid, soovitame esmalt vaadata ära osa III videod *ggplot2* kohta. \n",
    "\n",
    "## Maksude andmestik\n",
    "\n",
    "Loe sisse Maksu- ja Tolliameti 2014. aasta [maksude andmestik](../data/maksude_andmestik.csv) ja tutvu andmetega. Andmestikus on järgnevad tunnused:\n",
    "\n",
    "* *registrikood*: juriidilise isiku registrikood\n",
    "* *nimi*: juriidilise isiku nimi\n",
    "* *liik*: kas tegemist on äriühingu, MTÜ, FIE vms\n",
    "* *kaibemaksukohuslane*: kas juriidiline isik on käibemaksukohuslane\n",
    "* *maakond*: millises maakonnas on juriidiline isik registreeritud\n",
    "* *riiklikud_maksud*: käibemaks, tollimaks jne\n",
    "* *toojoumaksud_ja_maksed*: sotsiaalmaks, töötuskindlustusmakse jne"
   ]
  },
  {
   "cell_type": "markdown",
   "metadata": {},
   "source": [
    "### Ülesanne 1 (2 punkti)\n",
    "\n",
    "Tee 3 joonist, mis iseloomustavad hästi seda andmestikku. Iga joonise juurde kirjuta üks lause, mida see joonis sinu arvates näitab."
   ]
  },
  {
   "cell_type": "code",
   "execution_count": null,
   "metadata": {},
   "outputs": [],
   "source": [
    "# sinu kood"
   ]
  },
  {
   "cell_type": "markdown",
   "metadata": {},
   "source": [
    "### Ülesanne 2 (2 punkti) \n",
    "\n",
    "Kontrolli visuaalselt Benfordi seaduse kehtimist tunnustel *riiklikud_maksud* ja *toojoumaksud_ja_maksed*. Selleks tekita esinumbrite histogramm. Nulliga võrduvad väärtused jäta kõrvale. Tee vastav joonis ka FIE-de, äriühingute jne lõikes (vt tunnus *liik*).\n",
    "\n",
    "Näpunäide: esimest numbrit aitab eraldada näiteks funktsioon `substr`."
   ]
  },
  {
   "cell_type": "code",
   "execution_count": null,
   "metadata": {},
   "outputs": [],
   "source": [
    "# sinu kood"
   ]
  },
  {
   "cell_type": "markdown",
   "metadata": {},
   "source": [
    "Kommenteeri tulemusi. \n",
    "\n",
    "Kas sellest võib järeldada, et FIE-d jahmerdavad maksudega?"
   ]
  },
  {
   "cell_type": "markdown",
   "metadata": {},
   "source": [
    "## 2017 KOV valimiste hääletustulemuste andmestik\n",
    "\n",
    "Loe sisse [andmestik](../data/KOV_valimised_2017.csv) ja tutvu andmetega. Andmestikus on järgnevad tunnused:\n",
    "\n",
    "* *nimi* - kandidaadi nimi\n",
    "* *nr* - kandidaadi number\n",
    "* *Maakond*\n",
    "* *Omavalitsus*\n",
    "* *Kood* - omavalitsuse kood\n",
    "* *nimekiri* - partei või valimisliit, kuhu kandidaat kuulub\n",
    "* *paberhaali* - kandidaadi poolt saadud paberhäälte arv\n",
    "* *ehaali* - kandidaadi poolt saadud e-häälte arv\n",
    "* *valitud* - kas kandidaat osutus valituks (*true*) või mitte (*false*)\n",
    "\n",
    "### Ülesanne 3 (2 punkti)\n",
    "\n",
    "* Esmalt tee juurde tunnus, mis näitab kandidaadile antud koguhäälte arvu (paberhäälte ja e-häälte summa). \n",
    "* Seejärel tekita tunnus, mille väärtusteks on *Eesti Keskerakond*, *Eesti Reformierakond*, *Sotsiaaldemokraatlik Erakond*, *Erakond Isamaa ja Res Publica Liit*, *Eesti Konservatiivne Rahvaerakond* ja *Muu*, st väiksemad erakonnad ja valimisliidud on ühte gruppi kokku võetud.\n",
    "* Tee 3 joonist, mis iseloomustavad hästi seda andmestikku. Iga joonise juurde kirjuta üks lause, mida see joonis sinu arvates näitab."
   ]
  },
  {
   "cell_type": "code",
   "execution_count": null,
   "metadata": {
    "lines_to_next_cell": 2
   },
   "outputs": [],
   "source": [
    "# sinu kood"
   ]
  },
  {
   "cell_type": "code",
   "execution_count": null,
   "metadata": {
    "lines_to_next_cell": 2,
    "tags": [
     "remove_cell"
    ]
   },
   "outputs": [],
   "source": [
    "andmed = read.table(\"../../data/KOV_valimised_2017.csv\", sep=\";\", header=T)\n"
   ]
  },
  {
   "cell_type": "markdown",
   "metadata": {},
   "source": [
    "### Ülesanne 4 (2 punkti)\n",
    "\n",
    "Kontrolli visuaalselt Benfordi seaduse kehtimist: \n",
    "\n",
    "* e-häälte arvul,\n",
    "* paberhäälte arvul,\n",
    "* koguhäälte arvul.\n",
    "\n",
    "Seejärel tee eelnevad joonised ka erakondade kaupa. Kommenteeri tulemusi."
   ]
  },
  {
   "cell_type": "code",
   "execution_count": null,
   "metadata": {
    "lines_to_next_cell": 2
   },
   "outputs": [],
   "source": [
    "# sinu kood"
   ]
  },
  {
   "cell_type": "markdown",
   "metadata": {},
   "source": [
    "### Ülesanne 5 (3 punkti) \n",
    "\n",
    "Tee järgnevale joonisele võimalikult sarnane. "
   ]
  },
  {
   "cell_type": "code",
   "execution_count": null,
   "metadata": {
    "message": false,
    "tags": [
     "remove_input"
    ],
    "warning": false
   },
   "outputs": [],
   "source": [
    "# Kood"
   ]
  },
  {
   "cell_type": "markdown",
   "metadata": {},
   "source": [
    "Näpunäited:\n",
    "\n",
    "* Log-skaala kasutamiseks uuri [järgmisi ggplot2 näiteid.](http://docs.ggplot2.org/current/scale_continuous.html)\n",
    "* Legendi peitmiseks uuri [järgmisi ggplot2 näiteid.](http://docs.ggplot2.org/current/theme.html)  (märksõnaks on `legend.position`)\n",
    "* Käsuga `facet_wrap` saab joonise jaotada tükkideks (Mõned [näited](http://docs.ggplot2.org/current/facet_wrap.html).)\n",
    "* Et muuta värvid vastavaks erakonna sümboolikaga, kasuta värve \"#00983A\", \"#FFDE00\",\"#E30613\", \"#009FE3\",\"#8B4513\", \"#82368C\" (vastavalt KESK, REF, SDE, IRL, EKRE, Muu).\n",
    "* Värvide muutmiseks uuri [järgmisi ggplot2 näiteid.](http://docs.ggplot2.org/current/scale_manual.html)\n",
    "* Pööra tähelepanu n-ö akende pealkirjadele ja järjekorrale. Abiks võib olla funktsioon `factor`."
   ]
  },
  {
   "cell_type": "markdown",
   "metadata": {},
   "source": [
    "### Boonusülesanne 1 (2 punkti)\n",
    "\n",
    "Lisa hallid mummud taustale. Tulemus peaks olema selline:"
   ]
  },
  {
   "cell_type": "code",
   "execution_count": null,
   "metadata": {
    "message": false,
    "tags": [
     "remove_input"
    ],
    "warning": false
   },
   "outputs": [],
   "source": [
    "#Kood"
   ]
  }
 ],
 "metadata": {
  "jupytext": {
   "cell_metadata_filter": "tags,warning,message,-all",
   "main_language": "R",
   "notebook_metadata_filter": "-all"
  }
 },
 "nbformat": 4,
 "nbformat_minor": 4
}
