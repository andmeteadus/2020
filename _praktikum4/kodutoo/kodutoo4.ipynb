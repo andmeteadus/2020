{
 "cells": [
  {
   "cell_type": "markdown",
   "metadata": {},
   "source": [
    "# IV Kodutöö\n",
    "\n",
    "\n",
    "## I osa - NBA (**15 punkti**)"
   ]
  },
  {
   "cell_type": "markdown",
   "metadata": {},
   "source": [
    "Jaanus \"Sops\" Kolmene käib jõusaalis kolm korda nädalas. Järgmisel kuul sisustab ta ka reede õhtupooliku raskusi tõstes, sest tema rinnalihas on statistiku jaoks liiga nõrk. Nimelt otsib korvpalliklubi Brooklyn Nets oma ridadesse statistikut, kes analüüsiks korvpalliandmeid ja aitaks seeläbi optimiseerida meeskonna mängustrateegiat. Kandidaadi nõuete seas on ka 50 kg rinnalt surumine.\n",
    "\n",
    "Kuna rinnalihase nõue on ehk peagi täidetud, tahab Jaanus enne intervjuule minekut saada praktilist kogemust NBA andmete analüüsimisel. Ta teab, et NBA mängude kohta kogutakse SportVU tehnoloogia abil detailset statistikat.\n",
    "\n",
    "![](https://raw.githubusercontent.com/andmeteadus/2020/master/_praktikum4/nba/player-tracking-summary.gif \"Joonis nba.com lehelt\")\n",
    "\n",
    "Ta tahab koostada iga mängija ja meeskonna kohta profiili: kust visatakse ning kust tabatakse. Just nagu tegi [NY Times'i graafikaosakond:](http://www.nytimes.com/interactive/2012/06/11/sports/basketball/nba-shot-analysis.html)\n",
    "\n",
    "![](https://raw.githubusercontent.com/andmeteadus/2020/master/_praktikum4/nba/nytimes.png \"Näide\")\n",
    "\n",
    "Selles praktikumis uurime, kuidas teha sarnast joonist R-i vahenditega.\n",
    "\n",
    "### Tutvumine andmestikuga\n",
    "\n",
    "Kasutame NBA 2016/17 hooaja andmeid. Selleks installi pakett `NBAapi`."
   ]
  },
  {
   "cell_type": "code",
   "execution_count": 4,
   "metadata": {
    "eval": false,
    "lines_to_next_cell": 2
   },
   "outputs": [
    {
     "name": "stderr",
     "output_type": "stream",
     "text": [
      "WARNING: Rtools is required to build R packages, but is not currently installed.\n",
      "\n",
      "Please download and install Rtools custom from http://cran.r-project.org/bin/windows/Rtools/.\n",
      "Downloading GitHub repo imadmali/NBAapi@master\n"
     ]
    },
    {
     "name": "stdout",
     "output_type": "stream",
     "text": [
      "rjson      (NA       -> 0.2.20  ) [CRAN]\n",
      "dplyr      (0.8.0.1  -> 0.8.4   ) [CRAN]\n",
      "ggplot2    (3.1.1    -> 3.2.1   ) [CRAN]\n",
      "sp         (NA       -> 1.4-0   ) [CRAN]\n",
      "raster     (NA       -> 3.0-12  ) [CRAN]\n",
      "cli        (1.1.0    -> 2.0.1   ) [CRAN]\n",
      "fansi      (0.4.0    -> 0.4.1   ) [CRAN]\n",
      "pillar     (1.3.1    -> 1.4.3   ) [CRAN]\n",
      "pkgconfig  (2.0.2    -> 2.0.3   ) [CRAN]\n",
      "vctrs      (NA       -> 0.2.3   ) [CRAN]\n",
      "digest     (0.6.18   -> 0.6.25  ) [CRAN]\n",
      "plyr       (1.8.4    -> 1.8.5   ) [CRAN]\n",
      "Rcpp       (1.0.1    -> 1.0.3   ) [CRAN]\n",
      "stringi    (1.4.3    -> 1.4.6   ) [CRAN]\n",
      "farver     (NA       -> 2.0.3   ) [CRAN]\n",
      "R6         (2.4.0    -> 2.4.1   ) [CRAN]\n",
      "lifecycle  (NA       -> 0.1.0   ) [CRAN]\n",
      "tibble     (2.1.1    -> 2.1.3   ) [CRAN]\n",
      "tidyselect (0.2.5    -> 1.0.0   ) [CRAN]\n",
      "BH         (1.69.0-1 -> 1.72.0-3) [CRAN]\n",
      "scales     (1.0.0    -> 1.1.0   ) [CRAN]\n"
     ]
    },
    {
     "name": "stderr",
     "output_type": "stream",
     "text": [
      "Installing 21 packages: rjson, dplyr, ggplot2, sp, raster, cli, fansi, pillar, pkgconfig, vctrs, digest, plyr, Rcpp, stringi, farver, R6, lifecycle, tibble, tidyselect, BH, scales\n"
     ]
    },
    {
     "name": "stdout",
     "output_type": "stream",
     "text": [
      "\n",
      "  There is a binary version available but the source version is later:\n",
      "       binary source needs_compilation\n",
      "digest 0.6.24 0.6.25              TRUE\n",
      "\n",
      "  Binaries will be installed\n",
      "package 'rjson' successfully unpacked and MD5 sums checked\n",
      "package 'dplyr' successfully unpacked and MD5 sums checked\n",
      "package 'ggplot2' successfully unpacked and MD5 sums checked\n",
      "package 'sp' successfully unpacked and MD5 sums checked\n",
      "package 'raster' successfully unpacked and MD5 sums checked\n",
      "package 'cli' successfully unpacked and MD5 sums checked\n",
      "package 'fansi' successfully unpacked and MD5 sums checked\n",
      "package 'pillar' successfully unpacked and MD5 sums checked\n",
      "package 'pkgconfig' successfully unpacked and MD5 sums checked\n",
      "package 'vctrs' successfully unpacked and MD5 sums checked\n",
      "package 'digest' successfully unpacked and MD5 sums checked\n"
     ]
    },
    {
     "ename": "ERROR",
     "evalue": "Error: Failed to install 'NBAapi' from GitHub:\n  (converted from warning) cannot remove prior installation of package 'digest'\n",
     "output_type": "error",
     "traceback": [
      "Error: Failed to install 'NBAapi' from GitHub:\n  (converted from warning) cannot remove prior installation of package 'digest'\nTraceback:\n",
      "1. devtools::install_github(\"imadmali/NBAapi\")",
      "2. pkgbuild::with_build_tools({\n .     ellipsis::check_dots_used(action = getOption(\"devtools.ellipsis_action\", \n .         rlang::warn))\n .     {\n .         remotes <- lapply(repo, github_remote, ref = ref, subdir = subdir, \n .             auth_token = auth_token, host = host)\n .         install_remotes(remotes, auth_token = auth_token, host = host, \n .             dependencies = dependencies, upgrade = upgrade, force = force, \n .             quiet = quiet, build = build, build_opts = build_opts, \n .             build_manual = build_manual, build_vignettes = build_vignettes, \n .             repos = repos, type = type, ...)\n .     }\n . }, required = FALSE)",
      "3. install_remotes(remotes, auth_token = auth_token, host = host, \n .     dependencies = dependencies, upgrade = upgrade, force = force, \n .     quiet = quiet, build = build, build_opts = build_opts, build_manual = build_manual, \n .     build_vignettes = build_vignettes, repos = repos, type = type, \n .     ...)",
      "4. tryCatch(res[[i]] <- install_remote(remotes[[i]], ...), error = function(e) {\n .     stop(remote_install_error(remotes[[i]], e))\n . })",
      "5. tryCatchList(expr, classes, parentenv, handlers)",
      "6. tryCatchOne(expr, names, parentenv, handlers[[1L]])",
      "7. value[[3L]](cond)"
     ]
    }
   ],
   "source": [
    "# Vajalik paketi devtools olemasolu\n",
    "devtools::install_github(\"imadmali/NBAapi\") \n",
    "library(NBAapi)\n",
    "\n",
    "#visete andmestik, mis tuli paketiga kaasa\n",
    "str(shots_1617) \n",
    "nba = shots_1617"
   ]
  },
  {
   "cell_type": "markdown",
   "metadata": {},
   "source": [
    "Tunnused, mida järgnevalt vaja läheb, on:\n",
    "\n",
    "* *PLAYER_NAME* - korvpalluri nimi\n",
    "* *TEAM_NAME* - korvpalluri meeskonna nimi\n",
    "* *SHOT_MADE_FLAG* - kas vise läks korvi\n",
    "* *LOC_X* - viske x-koordinaat\n",
    "* *LOC_Y* - viske y-koordinaat\n",
    "\n",
    "Andmestikust ülevaate saamiseks võid enda jaoks visualiseerida huvipakkuva mängija viskekohti hajuvusdiagrammi abil, kus iga vise oleks punktike. Kasuta tunnuseid *LOC_X* ja *LOC_Y*.\n",
    "\n",
    "Näpunäide: kasuta käsku `coord_fixed(ratio = 1)` (ka edaspidiselt)."
   ]
  },
  {
   "cell_type": "markdown",
   "metadata": {},
   "source": [
    "### Ülesanne 1.1 - väljak diskreetseks (2 punkti)\n",
    "\n",
    "Diskretiseeri mänguväljak (jaga mänguväljak tükkideks). \n",
    "\n",
    "![](https://raw.githubusercontent.com/andmeteadus/2020/master/_praktikum4/nba/diskretiseeritud_manguvaljak.png \"Näide\")\n",
    "\n",
    "Tükid moodusta nii, et ümarda x- ja y-koordinaat kümnelisteni. Iga kastikese kohta arvuta:\n",
    "\n",
    "* visete arv\n",
    "* tabavusprotsent\n",
    "\n",
    "Tee seda iga algandmestikus oleva mängija puhul, võttes arvesse ka mängija meeskondlikku kuuluvust (mängija võib hooaja keskel meeskonda vahetada).\n",
    "\n",
    "Näpunäited: \n",
    "\n",
    "* uuri, mida teeb käsk `round(21:30, -1)`.\n",
    "* kasuks tuleb paketi dplyr funktsionaalsus (`mutate`, `group_by`, `summarise`)"
   ]
  },
  {
   "cell_type": "code",
   "execution_count": 8,
   "metadata": {},
   "outputs": [],
   "source": [
    "# Ülesanne 1.1\n",
    "# sinu kood\n"
   ]
  },
  {
   "cell_type": "markdown",
   "metadata": {},
   "source": [
    "### Ülesanne 1.2 - mänguväljaku põhja lisamine (1 punkti)\n",
    "\n",
    "Visualiseeri enda jaoks ülesandes 1 saadud andmeid (valitud mängija korral). Iga diskretiseeritud kastikese kohta joonista ring. Ringi pindala olgu proportsionaalne visete arvuga.\n",
    "\n",
    "Kasuta edasisel visualiseerimisel järgnevat koodi näidist mänguväljaku loomiseks.\n",
    "\n",
    "Näpunäited: \n",
    "\n",
    "* kasuta selleks käsku `scale_size_area()` (uuri, mida see teeb)\n",
    "* määra `ylim(-50,300)`."
   ]
  },
  {
   "cell_type": "code",
   "execution_count": null,
   "metadata": {
    "eval": false,
    "lines_to_next_cell": 2
   },
   "outputs": [],
   "source": [
    "library(grid) \n",
    "library(jpeg) \n",
    "library(RCurl)\n",
    "\n",
    "#loome mänguväljaku\n",
    "courtImg.URL <- \"https://thedatagame.files.wordpress.com/2016/03/nba_court.jpg\"\n",
    "manguvaljak <- rasterGrob(readJPEG(getURLContent(courtImg.URL)),\n",
    "                    width=unit(1,\"npc\"), height=unit(1,\"npc\"))\n",
    "\n",
    "valitud_mangija = filter(nba, PLAYER_NAME == 'Kristaps Porzingis')\n",
    "\n",
    "valjak <- ggplot(valitud_mangija, aes(x = x, y = y)) + \n",
    "  annotation_custom(manguvaljak, -250, 250, -50, 420) + geom_point()\n",
    "\n",
    "# Ülesanne 1.2\n",
    "# sinu kood\n"
   ]
  },
  {
   "cell_type": "markdown",
   "metadata": {},
   "source": [
    "### Ülesanne 1.3 - suuruse muutmine (1 punkti)\n",
    "\n",
    "NY Timesi graafikaosakond on jaganud visete arvu kolme kategooriasse: *low*, *medium*, *high*. Vali välja piirid, mille põhjal jaotatakse visete arv kolme kategooriasse (*low*, *medium*, *high*). Iga kategooria jaoks vali sobiv pindala suurus (kontrolli, et tulemus oleks visuaalselt kena). Kirjuta funktsioon `kolm_suurust`, mis vastavalt valitud suuruste väärtustele ning kategooriate piiridele tagastab andmestiku, kus tunnus \"uus_suurus\" vastab kategooria suurusele."
   ]
  },
  {
   "cell_type": "code",
   "execution_count": null,
   "metadata": {
    "eval": false,
    "lines_to_next_cell": 2
   },
   "outputs": [],
   "source": [
    "# Ülesanne 1.3\n",
    "\n",
    "kolm_suurust = function(andmed, suurus1, suurus2, suurus3, piir1, piir2){\n",
    "  # Kui visete_arv <= piir1, siis uus_suurus = suurus1,\n",
    "  # kui piir1 > visete_arv <= piir2, siis uus_suurus = suurus2,\n",
    "  # kui visete_arv>piir2, siis uus_suurus = suurus3\n",
    "  \n",
    "  # sinu kood\n",
    "}"
   ]
  },
  {
   "cell_type": "markdown",
   "metadata": {},
   "source": [
    "Visualiseeri enda jaoks viskepositsioone sarnaselt eelmisele joonisele, kuid nüüd olgu ringidel vaid 3 erinevat suurust.\n"
   ]
  },
  {
   "cell_type": "markdown",
   "metadata": {},
   "source": [
    "### Ülesanne 1.4 - värvid (1 punkti)\n",
    "\n",
    "Uuri, mida tähistavad [NY Times'i graafikul](http://www.nytimes.com/interactive/2012/06/11/sports/basketball/nba-shot-analysis.html) punane ja roheline värv.\n",
    "\n",
    "Lisa nüüd ringidele värv vastavalt visketabavusele. Kasuta sarnast värvigammat, näiteks värvikoodid *#ABCDBC*, *#EFF471* ja *#D9060B*.\n",
    "\n",
    "Näpunäide:\n",
    "\n",
    "* uuri, mida teeb käsk `scale_color_gradient2()`, sh parameeter *midpoint*."
   ]
  },
  {
   "cell_type": "markdown",
   "metadata": {},
   "source": [
    "### Ülesanne 1.5 - kuusnurgad (3 punkti)\n",
    "\n",
    "Kasuta nüüd ringide asemel kuusnurki. \n",
    "\n",
    "Meeldetuletus kuusnurkadest:\n",
    "\n",
    "![](https://raw.githubusercontent.com/andmeteadus/2020/master/_praktikum4/nba/hexagon.png \"Näide\")\n",
    "\n",
    "`ggplot()` võimaldab parameetri `shape` abil määrata erinevaid geomeetrilisi kujutusviise (näit. ruut, kolmnurk), kuid valikute seas ei leidu kuusnurka. Oleme ette andnud funktsiooni `kuusnurk`, mis sisestades kuusnurga keskpunkti koordinaadid ja pindala, väljastab kuusnurga tippude koordinaadid. Paraku ise defineeritud geomeetriliste objektide kujutamiseks `geom_point()` ei sobi. \n",
    "\n",
    "Näpunäited:\n",
    "\n",
    "* uuri, mida teeb funktsioon `geom_polygon()`\n",
    "* uuri, mida teeb funktsioon `kuusnurk` ühe vaatluse korral (st fikseeritud koordinaatide x ja y ning pindala korral)\n",
    "* moodusta eelnevalt valitud mängijale vastav uus andmestik, kus olemasoleva andmestiku iga rida on dubleeritud 6 korda, et kuusnurga iga tipu kohta oleks sama info\n",
    "* kuusnurkade eristamiseks tuleks lisada grupeeriv tunnus, mida `ggplot` joonist tehes parameetri `group` puhul kasutada\n",
    "* kuusnurki saab seest värvida parameetri `fill` abil ja kontuure parameetri `color` abil.\n",
    "* uuri, mida teeb funktsioon `scale_fill_gradient2()`\n",
    "\n"
   ]
  },
  {
   "cell_type": "code",
   "execution_count": null,
   "metadata": {
    "eval": false,
    "fig.height": 3
   },
   "outputs": [],
   "source": [
    "# Ülesanne 1.5\n",
    "\n",
    "kuusnurk = function(x, y, pindala){\n",
    "    r = sqrt(2*sqrt(3)/9*pindala)\n",
    "    x_coord=x+c(0,sqrt(3)/2*r,sqrt(3)/2*r,0,-sqrt(3)/2*r,-sqrt(3)/2*r) \n",
    "    y_coord=y+c(r, r/2, -r/2, -r, -r/2, r/2)\n",
    "    return(data.frame(x_kuusnurk=x_coord,y_kuusnurk=y_coord))\n",
    "  }\n",
    "\n",
    "# Sinu kood\n"
   ]
  },
  {
   "cell_type": "markdown",
   "metadata": {
    "lines_to_next_cell": 0
   },
   "source": [
    "### Ülesanne 6 - shiny rakendus (7 punkti)\n",
    "\n",
    "Ehita Shiny rakendus, kus kasutaja saab valida meeskonna ja valitud meeskonnas oleva mängija. Seejärel peab rakendus kuvama valitud mängijale vastava viskeprofiili.\n",
    "\n",
    "Juhend:\n",
    "\n",
    "1. Tekita esmalt võimalus meeskonna valikuks\n",
    "  - Kasuta ui osas funktsiooni `selectInput()`\n",
    "  - parameetri *choices* valikuks olgu algandmetes olevate meeskondade nimed tähestiku järjekorras\n",
    "  - testi enda jaoks, kas see valik töötab\n",
    "2. Tekita juurde võimalus mängija valikuks. Kasutajale kuvatakse vaid neid mängijaid, kes kuuluvad (või on hooaja jooksul kuulunud) valitud meeskonda.\n",
    "  - Kasuta ui osas funktsiooni `selectInput()`\n",
    "  - parameetri *choices* väärtuseks olgu esialgu tühisõne, st \"\","
   ]
  },
  {
   "cell_type": "code",
   "execution_count": null,
   "metadata": {
    "eval": false,
    "lines_to_next_cell": 0
   },
   "outputs": [],
   "source": [
    "selectInput(\"mangija\", \"Vali mängija\", choices = \"\")"
   ]
  },
  {
   "cell_type": "markdown",
   "metadata": {
    "lines_to_next_cell": 0
   },
   "source": [
    "  - Vaata, et `server` funktsioonil oleks juures parameeter *session*"
   ]
  },
  {
   "cell_type": "code",
   "execution_count": null,
   "metadata": {
    "eval": false,
    "lines_to_next_cell": 0
   },
   "outputs": [],
   "source": [
    "server <- function(input, output, session) {"
   ]
  },
  {
   "cell_type": "markdown",
   "metadata": {
    "lines_to_next_cell": 0
   },
   "source": [
    "  - kasuta server funktsiooni sees funktsiooni `observe()` (selleks, et kui meeskonna valikut on muudetud, uuendataks ka mängijate nimekirja)\n",
    "  - funktsiooni `observe()` sees kasuta omakorda funktsiooni `updateSelectizeInput` (uuri ka, mida see teeb):"
   ]
  },
  {
   "cell_type": "code",
   "execution_count": null,
   "metadata": {
    "eval": false,
    "lines_to_next_cell": 0
   },
   "outputs": [],
   "source": [
    "  observe({\n",
    "\n",
    "    # Sinu kood\n",
    "    ## Vali välja nende mängijate nimed, kes kuuluvad (või on kuulunud) \n",
    "    ## valitud meeskonda\n",
    "    \n",
    "    ## mangijad_meeskonnas = ...\n",
    "    \n",
    "    updateSelectizeInput(session, \"mangija\",\n",
    "                         label = \"Vali mängija\",\n",
    "                         choices = mangijad_meeskonnas,\n",
    "                         selected = head(mangijad_meeskonnas, 1))\n",
    "  })"
   ]
  },
  {
   "cell_type": "markdown",
   "metadata": {},
   "source": [
    "  - `observe()` sisuks on jälgida, kas mõni temas sisalduv sisendi väärtus on muutunud (antud kontekstis meeskonna valik). Kui on, siis jooksutatakse läbi kogu observe() funktsioonis sisalduv kood.\n",
    "  - Kontrolli, kas kood töötab nii nagu vaja.\n",
    "3. Väljasta valitud meeskonna ja mängija viskeprofiili joonis (vt ülesanne 5).\n",
    "4. Eemalda jooniselt kõik üleliigne (telgede tekst, tick’d, joonise raam ja ruudustik (grid)). Kasuta selleks funktsiooni `theme()`.\n",
    "\n",
    "Lõplik tulemus võiks välja nähe umbes selline:\n",
    "\n",
    "![](https://raw.githubusercontent.com/andmeteadus/2020/master/_praktikum4/nba/Shiny_kuva.PNG \"Shiny\")\n"
   ]
  },
  {
   "cell_type": "markdown",
   "metadata": {},
   "source": [
    "### Boonusülesanne B1.1 - mängijate valik (2 punkt)\n",
    "\n",
    "Muuda mängijate valikut selliselt, et mängijaid kuvatakse vastavalt sooritatud visete arvule (rohkem viskeid teinud mängijad eespool)."
   ]
  },
  {
   "cell_type": "code",
   "execution_count": null,
   "metadata": {},
   "outputs": [],
   "source": []
  },
  {
   "cell_type": "markdown",
   "metadata": {},
   "source": [
    "### Boonusülesanne B1.2 - geomeetria (1 punkt)\n",
    "\n",
    "Kui võrrelda meie kuusnurki NY Times'i omadega, siis on näha, et NY Times'i omi on 90 kraadi pööratud. Muuda funktsiooni `kuusnurk()` selliselt, et selle väljundiks olev kuusnurk oleks 90 kraadi pööratud."
   ]
  },
  {
   "cell_type": "code",
   "execution_count": null,
   "metadata": {},
   "outputs": [],
   "source": [
    "# Ülesanne B1.2\n",
    "# Vii lahendus sisse Ülesandes 1.5 aga seleta või kirjuta siia kood kuidas tegid\n"
   ]
  },
  {
   "cell_type": "markdown",
   "metadata": {},
   "source": [
    "## II osa - lennuliikluse visualiseerimine (**10 punkti**)"
   ]
  },
  {
   "cell_type": "markdown",
   "metadata": {},
   "source": [
    "Paul Butler oli 2010. aasta lõpus Facebookis praktikal. Ta visualiseeris sotsiaalvõrgustiku andmeid tõmmates jooni sõprade asukohtade vahel."
   ]
  },
  {
   "cell_type": "code",
   "execution_count": null,
   "metadata": {
    "lines_to_next_cell": 2,
    "name": "setup",
    "tags": [
     "remove_cell"
    ]
   },
   "outputs": [],
   "source": [
    "knitr::opts_chunk$set(echo = TRUE, warning = FALSE, message = FALSE)\n",
    "library(leaflet)\n",
    "library(ggmap)"
   ]
  },
  {
   "cell_type": "markdown",
   "metadata": {},
   "source": [
    "![](https://raw.githubusercontent.com/andmeteadus/2020/master/_praktikum4/geo/facebook_map.png \"Näide\")\n",
    "\n",
    "Joonis on atraktiivne ja annab hästi edasi FB visiooni. Seda sama joonist näidatakse igapäevaselt FB kontoris hiigelsuurelt ekraanilt ja kasutati näiteks FB aktsiaemissiooni prospektis, et meelde tuletada või selgitada ettevõtte missiooni. Paul tegi selle joonise [kasutades R-i.](http://paulbutler.org/archives/visualizing-facebook-friends/) Kuna FB meile andmeid ei andnud, vaatame selles kodutöös, kuidas lennuliiklus ühendab maailma.\n",
    "\n",
    "### Tutvumine andmestikuga\n",
    "\n",
    "Laadi alla andmestikud [airports.csv](https://raw.githubusercontent.com/andmeteadus/2020/master/data/airports.csv) ja [flights.csv](https://raw.githubusercontent.com/andmeteadus/2020/master/data/flights.csv) ning loe need töökeskkonda.\n",
    "\n",
    "Andmestikus *airports.csv* on informatsioon lennujaamade kohta. Selles on järgnevad tunnused:\n",
    "\n",
    "* *id* - lennujaama id\n",
    "* *name* - lennujaama nimi\n",
    "* *city* - millises linnas asub lennujaam\n",
    "* *country* - millises riigis asub lennujaam\n",
    "* *lat* - lennujaama asukoha laiuskraad\n",
    "* *lon* - lennujaama asukoha pikkuskraad\n",
    "\n",
    "Andmestik *flights.csv* sisaldab infot lendude kohta. Selles on järgnevad tunnused:\n",
    "\n",
    "* *airline* - lennukompanii lühend\n",
    "* *airline_id* - lennukompanii id\n",
    "* *source_airport* - lähtekoha lennujaama lühend\n",
    "* *source_airport_id* - lähtekoha lennujaama id\n",
    "* *dest_airport* - sihtkoha lennujaama lühend\n",
    "* *dest_airport_id* - sithkoha lennujaama id\n",
    "\n",
    "### Suurringjoon\n",
    "\n",
    "Paul Butler kasutas suurringjooni, et visualiseerida ühendusi sõprade vahel. Kahe punkti lühim vahemaa keral avaldub [suurringjoone](http://en.wikipedia.org/wiki/Great_circle) kaudu. Kui tuult ja muid sarnaseid tegureid mitte arvestada, lendavad lennukid pikki vahemaid suurringjoonte marsruutide kaudu.\n",
    "\n",
    "Järgneval joonisel on see tähistatud punase joonega.\n",
    "\n",
    "![](https://raw.githubusercontent.com/andmeteadus/2020/master/_praktikum4/geo/great_circle.jpg \"Näide\")\n",
    "\n",
    "### Näide1: suurringjoon R-is\n",
    "\n",
    "Näide, kuidas joonistada suurringjoont R-is. Ühendame Delta maja Facebooki peakontoriga kasutades baasgraafika võimalusi."
   ]
  },
  {
   "cell_type": "code",
   "execution_count": null,
   "metadata": {
    "message": false
   },
   "outputs": [],
   "source": [
    "library(maps)\n",
    "library(geosphere)\n",
    "\n",
    "map(\"world\", col=\"#f2f2f2\", fill=TRUE, border=NA)\n",
    "\n",
    "lat_delta = 58.385582 \n",
    "lon_delta = 26.725512\n",
    "lat_fb = 37.485245\n",
    "lon_fb = -122.148807\n",
    "\n",
    "gc_points = gcIntermediate(c(lon_delta, lat_delta), \n",
    "                           c(lon_fb, lat_fb), \n",
    "                           n=50, addStartEnd=TRUE)\n",
    "lines(gc_points)"
   ]
  },
  {
   "cell_type": "markdown",
   "metadata": {},
   "source": [
    "### Näide2: suurringjoon R-is\n",
    "\n",
    "Näide, kuidas joonistada suurringjoont R-is. Ühendame Delta maja Eyjafjallajökulliga kasutades `ggmap()` funktsiooni. Loe rohkem `ggmap()` funktsiooni kohta [siit.](https://journal.r-project.org/archive/2013-1/kahle-wickham.pdf)"
   ]
  },
  {
   "cell_type": "code",
   "execution_count": null,
   "metadata": {
    "message": false
   },
   "outputs": [],
   "source": [
    "library(ggmap)\n",
    "library(geosphere)\n",
    "\n",
    "lat_delta = 58.385582 \n",
    "lon_delta = 26.725512\n",
    "lat_eyjafjallajokull = 63.37120\n",
    "lon_eyjafjallajokull = -19.36480\n",
    "\n",
    "map <- get_map(location = 'Europe', zoom = 3 ,source = \"google\")\n",
    "a <- ggmap(map)\n",
    "\n",
    "gc_points = gcIntermediate(c(lon_delta, lat_delta), \n",
    "                           c(lon_eyjafjallajokull, lat_eyjafjallajokull),\n",
    "                           n=50, addStartEnd=TRUE)\n",
    "gc = data.frame(gc_points)\n",
    "\n",
    "a <- a + geom_path(data = gc, aes(x = lon, y = lat, colour = 'red'))\n",
    "a"
   ]
  },
  {
   "cell_type": "markdown",
   "metadata": {},
   "source": [
    "### Näide3: suurringjoon R-is\n",
    "\n",
    "Näide, kuidas joonistada suurringjoont R-is. Ühendame Delta maja maailma suurima pitsa sünnikohaga kahutades `leaflet` paketti. Loe rohkem `leaflet`'i kohta [siit.](https://rstudio.github.io/leaflet/)\n"
   ]
  },
  {
   "cell_type": "code",
   "execution_count": null,
   "metadata": {
    "message": false
   },
   "outputs": [],
   "source": [
    "lat_delta = 58.385582 \n",
    "lon_delta = 26.725512\n",
    "lat_pitsa = 41.535158\n",
    "lon_pitsa = 12.306798\n",
    "\n",
    "library(leaflet)\n",
    "\n",
    "m = leaflet() #koordinaatsüsteemis sisse lugemine\n",
    "\n",
    "m = addTiles(m) #kaardikihtide lisamine\n",
    "\n",
    "#suurringjoone punktid\n",
    "gc_points = gcIntermediate(c(lon_delta, lat_delta), \n",
    "                           c(lon_pitsa, lat_pitsa), \n",
    "                           n=50, addStartEnd=TRUE)\n",
    "gc = data.frame(gc_points)\n",
    "\n",
    "m = m %>% #punktide lisamine kaardile\n",
    "  addCircles(lng = lon_delta,lat = lat_delta,color = 'red',weight = 3) %>%\n",
    "  addCircles(lng = lon_pitsa,lat = lat_pitsa,color = 'red',weight = 3)\n",
    "\n",
    "m = m %>% #joonte lisamine kaardile\n",
    "  addPolylines(lng = gc$lon, lat = gc$lat, weight = 3, color = 'red')\n",
    "\n",
    "m = m %>% \n",
    "  setView(lng = 0, lat = 50, zoom = 3) %>% \n",
    "  addProviderTiles(\"Esri.WorldImagery\") #geoloogiline\n",
    "m"
   ]
  },
  {
   "cell_type": "markdown",
   "metadata": {},
   "source": [
    "### Ülesanne 2.1 (4 punkti)\n",
    "\n",
    "Visualiseeri suurringjoonte abil ühendusi, kuhu saab Tallinna lennujaamast otselennuga. Võid kasutada vabalt valitud meetodit eelnevalt toodud näidete seast. \n",
    "\n",
    "Näpunäited:\n",
    "\n",
    "* Kuna otselennuga saab Tallinnast vaid Euroopasse, siis kanna joonisele vaid Euroopa kaart.\n",
    "* Tallinna lennujaama kood on 415 (mille võid leida, kui uurid andmestikust `airports` Eesti lennujaamu).\n",
    "* Sihtkohtade lennujaamad leiad andmestikust *flights.csv*.\n",
    "* Lennujaamade koordinaadid leiad andmestikus *airports.csv*."
   ]
  },
  {
   "cell_type": "code",
   "execution_count": null,
   "metadata": {},
   "outputs": [],
   "source": [
    "# sinu kood\n"
   ]
  },
  {
   "cell_type": "markdown",
   "metadata": {},
   "source": [
    "### Ülesanne 2.2 (6 punkti)\n",
    "\n",
    "Visualiseeri ühendusi, kuhu saab Tallinna lennujaamast otselennu või ühe vahepeatusega. Võid kasutada esimeses ning kolmandas näites tutvustatud võimalusi.\n",
    "\n",
    "Näpunäited: \n",
    "\n",
    "* Et värve muuta läbipaistvaks, lisa värvikoodile lõppu läbipaistvuse intensiivsus. Näiteks kasuta funktsiooni `lines` korral argumenti `col=\"#00000010\"`, et muuta mustade (värvikood #000000) joonte läbipaistvus 10%-ni või funktsiooni `addPolylines` korral argumente `weight=0.7` ja `opacity=0.3`.  \n",
    "\n",
    "* Visualiseeri ühendusi Tallinn - vahelennujaam - lõpp-punkt. Tingimata pole tarvis mitu korda joonistada Tallinn - vahelennujaam ühendusi, need võid joonistada ka ühe korra.\n"
   ]
  },
  {
   "cell_type": "code",
   "execution_count": null,
   "metadata": {},
   "outputs": [],
   "source": [
    "# sinu kood\n"
   ]
  },
  {
   "cell_type": "markdown",
   "metadata": {},
   "source": [
    "Sinu joonis võiks tulla umbes selline:\n",
    "\n",
    "![](otselend_voi_yks_vahepeatus.png \"Näide1\")\n",
    "\n",
    "või selline:\n",
    "\n",
    "![](otselend_voi_yks_vahepeatus2.png \"Näide2\")\n",
    "\n",
    "### Boonusülesanne B2.1 (1 punkt) - Juhuslik ekslemine eralennukiga\n",
    "\n",
    "Alusta Tallinna lennujaamast. Vali kõikvõimalikest lennujaamadest juhuslikult üks ja lenda sinna. Vali nüüd juhuslikult järgmine sihtpunkt ning lenda sinna. Jätka seda protsessi 100 korral ja visualiseeri läbitud teekonda."
   ]
  },
  {
   "cell_type": "code",
   "execution_count": null,
   "metadata": {
    "lines_to_next_cell": 2
   },
   "outputs": [],
   "source": [
    "# sinu kood"
   ]
  },
  {
   "cell_type": "markdown",
   "metadata": {},
   "source": [
    "### Boonusülesanne B2.2 (2 punkti) - Juhuslik ekslemine kasutades kommertsliine\n",
    "\n",
    "Alusta Tallinna lennujaamast. Vali võimalikest sihtkohtadest üks ja lenda sinna. Vali selle lennujaama võimalikest sihtkohtadest juhuslikult järgmine ning lenda sinna. Jätka seda protsessi 100 korral ja visualiseeri läbitud teekonda."
   ]
  },
  {
   "cell_type": "code",
   "execution_count": null,
   "metadata": {},
   "outputs": [],
   "source": [
    "# sinu kood"
   ]
  },
  {
   "cell_type": "markdown",
   "metadata": {},
   "source": [
    "# Mida on vaja esitada?\n",
    "\n",
    "* I osa kohta tuleb esitada Shiny rakenduse fail (app.R või ui.R ja server.R). \n",
    "* II osa kohta tuleb esitada nii andmeanalüüsi raport (html formaadis) kui ka selle lähtekood .Rmd failina. \n",
    "* Lisaks võiksid mainida, kui palju aega kulus I ja II osa peale. Mida arvad ülesannetest?\n",
    "\n",
    "Lahendused esitada [Moodle keskkonna](https://moodle.ut.ee/course/view.php?id=8013#section-1) kaudu."
   ]
  }
 ],
 "metadata": {
  "jupytext": {
   "cell_metadata_filter": "-all",
   "main_language": "python",
   "notebook_metadata_filter": "-all"
  },
  "kernelspec": {
   "display_name": "R",
   "language": "R",
   "name": "ir"
  },
  "language_info": {
   "codemirror_mode": "r",
   "file_extension": ".r",
   "mimetype": "text/x-r-source",
   "name": "R",
   "pygments_lexer": "r",
   "version": "3.6.1"
  }
 },
 "nbformat": 4,
 "nbformat_minor": 4
}
